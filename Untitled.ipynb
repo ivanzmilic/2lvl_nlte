{
 "cells": [
  {
   "cell_type": "code",
   "execution_count": 1,
   "id": "42e68953",
   "metadata": {},
   "outputs": [],
   "source": [
    "import numpy as np \n",
    "import matplotlib.pyplot as plt \n",
    "from rtfunctions import sc_order_0"
   ]
  },
  {
   "cell_type": "code",
   "execution_count": 2,
   "id": "eed7337e",
   "metadata": {},
   "outputs": [],
   "source": [
    "s = np.linspace(1000,0,101)"
   ]
  },
  {
   "cell_type": "code",
   "execution_count": 4,
   "id": "e7730702",
   "metadata": {},
   "outputs": [],
   "source": [
    "op = np.exp(-s/200.0)"
   ]
  },
  {
   "cell_type": "code",
   "execution_count": 5,
   "id": "a8666f8b",
   "metadata": {},
   "outputs": [],
   "source": [
    "em = op"
   ]
  },
  {
   "cell_type": "code",
   "execution_count": null,
   "id": "c025d782",
   "metadata": {},
   "outputs": [],
   "source": [
    "I = sc_order_0(s,op,em)"
   ]
  }
 ],
 "metadata": {
  "kernelspec": {
   "display_name": "Python 3 (ipykernel)",
   "language": "python",
   "name": "python3"
  },
  "language_info": {
   "codemirror_mode": {
    "name": "ipython",
    "version": 3
   },
   "file_extension": ".py",
   "mimetype": "text/x-python",
   "name": "python",
   "nbconvert_exporter": "python",
   "pygments_lexer": "ipython3",
   "version": "3.9.13"
  }
 },
 "nbformat": 4,
 "nbformat_minor": 5
}
